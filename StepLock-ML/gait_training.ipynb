{
 "cells": [
  {
   "cell_type": "code",
   "execution_count": 21,
   "id": "e273cbe1",
   "metadata": {},
   "outputs": [],
   "source": [
    "import os\n",
    "import json\n",
    "import numpy as np\n",
    "import pandas as pd\n",
    "from scipy.signal import find_peaks\n",
    "import matplotlib.pyplot as plt\n"
   ]
  },
  {
   "cell_type": "code",
   "execution_count": 22,
   "id": "010f7972",
   "metadata": {},
   "outputs": [],
   "source": [
    "# Load JSON walk data into a DataFrame\n",
    "def load_walk_json(filepath):\n",
    "    with open(filepath) as f:\n",
    "        data = json.load(f)\n",
    "    return pd.DataFrame(data)\n"
   ]
  },
  {
   "cell_type": "code",
   "execution_count": 23,
   "id": "9e521a5c",
   "metadata": {},
   "outputs": [],
   "source": [
    "# Extract gait features from accelerometer magnitude\n",
    "def extract_features(df):\n",
    "    df_accel = df[df['type'] == 'accel']\n",
    "    x, y, z = df_accel['x'].values, df_accel['y'].values, df_accel['z'].values\n",
    "    magnitude = np.sqrt(x**2 + y**2 + z**2)\n",
    "\n",
    "    peaks, _ = find_peaks(magnitude, distance=5)\n",
    "\n",
    "    return {\n",
    "        'mean_mag': magnitude.mean(),\n",
    "        'std_mag': magnitude.std(),\n",
    "        'max_mag': magnitude.max(),\n",
    "        'min_mag': magnitude.min(),\n",
    "        'num_peaks': len(peaks),\n",
    "        'peak_mean': magnitude[peaks].mean() if len(peaks) else 0\n",
    "    }\n"
   ]
  },
  {
   "cell_type": "code",
   "execution_count": 26,
   "id": "ffaa5c01",
   "metadata": {},
   "outputs": [
    {
     "name": "stdout",
     "output_type": "stream",
     "text": [
      "✅ Loaded files: ['walks_other.json', 'walk_user.json', 'walk_user2.json']\n",
      "✅ Label counts: Counter({1: 2, 0: 1})\n"
     ]
    }
   ],
   "source": [
    "import json, os\n",
    "import numpy as np\n",
    "\n",
    "walk_dir = \"walks\"\n",
    "X = []\n",
    "y = []\n",
    "labels = []\n",
    "\n",
    "for filename in os.listdir(walk_dir):\n",
    "    if filename.endswith(\".json\"):\n",
    "        with open(os.path.join(walk_dir, filename), \"r\") as f:\n",
    "            data = json.load(f)\n",
    "            accel = [d for d in data if d[\"type\"] == \"accel\"]\n",
    "            gyro = [d for d in data if d[\"type\"] == \"gyro\"]\n",
    "\n",
    "            # Simple features: average acceleration and rotation\n",
    "            features = []\n",
    "            for group in (accel, gyro):\n",
    "                for axis in (\"x\", \"y\", \"z\"):\n",
    "                    values = [d[axis] for d in group]\n",
    "                    features.append(np.mean(values) if values else 0)\n",
    "                    features.append(np.std(values) if values else 0)\n",
    "\n",
    "            X.append(features)\n",
    "            label = 1 if \"user\" in filename.lower() else 0\n",
    "            y.append(label)\n",
    "            labels.append(label)\n",
    "\n",
    "from collections import Counter\n",
    "print(\"✅ Loaded files:\", os.listdir(walk_dir))\n",
    "print(\"✅ Label counts:\", Counter(y))\n"
   ]
  },
  {
   "cell_type": "code",
   "execution_count": 28,
   "id": "ee694f34",
   "metadata": {},
   "outputs": [
    {
     "name": "stdout",
     "output_type": "stream",
     "text": [
      "✅ Model Accuracy: 1.0\n"
     ]
    }
   ],
   "source": [
    "from sklearn.svm import SVC\n",
    "from sklearn.model_selection import train_test_split\n",
    "import numpy as np\n",
    "\n",
    "# Final check\n",
    "unique_labels = np.unique(y)\n",
    "if len(unique_labels) < 2:\n",
    "    raise ValueError(f\"Need at least 2 classes to train SVM. Found only: {unique_labels}\")\n",
    "\n",
    "# Train/test split\n",
    "X_train, X_test, y_train, y_test = train_test_split(X, y, test_size=0.3)\n",
    "\n",
    "# Train classifier\n",
    "clf = SVC(kernel='rbf', probability=True)\n",
    "clf.fit(X_train, y_train)\n",
    "\n",
    "# Evaluate\n",
    "accuracy = clf.score(X_test, y_test)\n",
    "print(\"✅ Model Accuracy:\", accuracy)\n"
   ]
  },
  {
   "cell_type": "code",
   "execution_count": 29,
   "id": "cff19c25",
   "metadata": {},
   "outputs": [
    {
     "name": "stdout",
     "output_type": "stream",
     "text": [
      "✅ Model saved as gait_model.pkl\n"
     ]
    }
   ],
   "source": [
    "import joblib\n",
    "joblib.dump(clf, \"gait_model.pkl\")\n",
    "print(\"✅ Model saved as gait_model.pkl\")\n"
   ]
  }
 ],
 "metadata": {
  "kernelspec": {
   "display_name": "venv",
   "language": "python",
   "name": "python3"
  },
  "language_info": {
   "codemirror_mode": {
    "name": "ipython",
    "version": 3
   },
   "file_extension": ".py",
   "mimetype": "text/x-python",
   "name": "python",
   "nbconvert_exporter": "python",
   "pygments_lexer": "ipython3",
   "version": "3.13.5"
  }
 },
 "nbformat": 4,
 "nbformat_minor": 5
}
